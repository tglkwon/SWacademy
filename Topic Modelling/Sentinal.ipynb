{
 "cells": [
  {
   "cell_type": "code",
   "execution_count": 55,
   "outputs": [],
   "source": [
    "from requests import request\n",
    "from bs4 import BeautifulSoup\n",
    "\n",
    "from math import log2\n",
    "import pandas as pd\n",
    "import re\n",
    "from nltk.tokenize import sent_tokenize\n",
    "from konlpy.tag import Hannanum, Komoran\n",
    "ma = Komoran()\n",
    "\n",
    "from collections import defaultdict, Counter"
   ],
   "metadata": {
    "collapsed": false
   }
  },
  {
   "cell_type": "code",
   "execution_count": null,
   "outputs": [],
   "source": [
    "dom = BeautifulSoup(request('get', 'https://www.goodchoice.kr/product/search/5').text, 'html5lib')\n",
    "ids = [a.attrs['data-ano'] for a in dom.select('li.list_2 > a[data-ano]')]"
   ],
   "metadata": {
    "collapsed": false
   }
  },
  {
   "cell_type": "code",
   "execution_count": null,
   "outputs": [],
   "source": [
    "url = 'https://www.goodchioce.kr/product/get_review_non'\n",
    "reviews = pd.DataFrame(columns=['ano', 'aepreg', 'rating', 'review'])\n",
    "\n",
    "for i in ids:\n",
    "    page = 1\n",
    "\n",
    "    while True:\n",
    "        resp = request('post', url, data={'page':page, 'ano': ids[0]})\n",
    "        for item in resp.json()['result']['items']:\n",
    "            reviews.loc[len(reviews)] = (i, item['aepreg'], item['epilrate'], item['aepcont'])\n",
    "        if page > resp.json()['total_page']:\n",
    "            break\n",
    "        page += 1\n",
    "# resp.json\n",
    "# len(resp.json()['result']['items'])"
   ],
   "metadata": {
    "collapsed": false
   }
  },
  {
   "cell_type": "markdown",
   "source": [
    "어휘기반 감성분석\n",
    "-> 어휘(사전적 정의와 다름, 사람이 일일히 정한 것, 코퍼스 - Semi-supervised)\n",
    "eg. 여기어때 -> 리뷰\n",
    "1. 리뷰(평점) -> 두 그룹(<5, >5)  -> term ㅌ positive, negetive <- PMI\n",
    "2.               X   대표단어 셋 -> term ㅌ 대표단어(positive), 대표단어(negetive) <- PMI\n",
    "3.          -> Topic Model\n",
    "4.                              -> 개별 토픽들이 어떤 극성(감성)\n",
    "PMI, PPMI, NPMI + LDA(np, list<-)"
   ],
   "metadata": {
    "collapsed": false
   }
  },
  {
   "cell_type": "code",
   "execution_count": 56,
   "outputs": [
    {
     "data": {
      "text/plain": "        Unnamed: 0           ano        aepreg       rating\ncount  2138.000000   2138.000000  2.138000e+03  2138.000000\nmean   3672.119738  56529.226848  1.611976e+09     6.657343\nstd    2053.632998  11729.379197  3.977837e+07     2.602609\nmin       0.000000  10681.000000  1.488162e+09     1.000000\n25%    2053.750000  47204.000000  1.584905e+09     5.300000\n50%    3764.000000  57279.000000  1.617594e+09     7.600000\n75%    5502.500000  64461.000000  1.644820e+09     8.600000\nmax    7035.000000  72146.000000  1.668556e+09     9.600000",
      "text/html": "<div>\n<style scoped>\n    .dataframe tbody tr th:only-of-type {\n        vertical-align: middle;\n    }\n\n    .dataframe tbody tr th {\n        vertical-align: top;\n    }\n\n    .dataframe thead th {\n        text-align: right;\n    }\n</style>\n<table border=\"1\" class=\"dataframe\">\n  <thead>\n    <tr style=\"text-align: right;\">\n      <th></th>\n      <th>Unnamed: 0</th>\n      <th>ano</th>\n      <th>aepreg</th>\n      <th>rating</th>\n    </tr>\n  </thead>\n  <tbody>\n    <tr>\n      <th>count</th>\n      <td>2138.000000</td>\n      <td>2138.000000</td>\n      <td>2.138000e+03</td>\n      <td>2138.000000</td>\n    </tr>\n    <tr>\n      <th>mean</th>\n      <td>3672.119738</td>\n      <td>56529.226848</td>\n      <td>1.611976e+09</td>\n      <td>6.657343</td>\n    </tr>\n    <tr>\n      <th>std</th>\n      <td>2053.632998</td>\n      <td>11729.379197</td>\n      <td>3.977837e+07</td>\n      <td>2.602609</td>\n    </tr>\n    <tr>\n      <th>min</th>\n      <td>0.000000</td>\n      <td>10681.000000</td>\n      <td>1.488162e+09</td>\n      <td>1.000000</td>\n    </tr>\n    <tr>\n      <th>25%</th>\n      <td>2053.750000</td>\n      <td>47204.000000</td>\n      <td>1.584905e+09</td>\n      <td>5.300000</td>\n    </tr>\n    <tr>\n      <th>50%</th>\n      <td>3764.000000</td>\n      <td>57279.000000</td>\n      <td>1.617594e+09</td>\n      <td>7.600000</td>\n    </tr>\n    <tr>\n      <th>75%</th>\n      <td>5502.500000</td>\n      <td>64461.000000</td>\n      <td>1.644820e+09</td>\n      <td>8.600000</td>\n    </tr>\n    <tr>\n      <th>max</th>\n      <td>7035.000000</td>\n      <td>72146.000000</td>\n      <td>1.668556e+09</td>\n      <td>9.600000</td>\n    </tr>\n  </tbody>\n</table>\n</div>"
     },
     "execution_count": 56,
     "metadata": {},
     "output_type": "execute_result"
    }
   ],
   "source": [
    "with open('reviews.jpg', encoding='utf-8') as fp:\n",
    "    reviews = pd.read_csv(fp)\n",
    "\n",
    "reviews[reviews['rating'] < 10].describe()"
   ],
   "metadata": {
    "collapsed": false
   }
  },
  {
   "cell_type": "code",
   "execution_count": 57,
   "outputs": [],
   "source": [
    "def cleanning1(org):\n",
    "    text = re.sub(r'[^0-9A-Za-zㄱ-ㅎ가-힣.,!? ]+', ' ', org)\n",
    "    result = list()\n",
    "    for s in sent_tokenize(text):\n",
    "        result.append(' '.join([t for t in ma.morphs(s) if len(t) > 1]))\n",
    "    return ('\\n'.join(result)).strip()"
   ],
   "metadata": {
    "collapsed": false
   }
  },
  {
   "cell_type": "code",
   "execution_count": 58,
   "outputs": [],
   "source": [
    "reviews['clean1'] = reviews['review'].apply(cleanning1)"
   ],
   "metadata": {
    "collapsed": false
   }
  },
  {
   "cell_type": "code",
   "execution_count": 59,
   "outputs": [],
   "source": [
    "negative = reviews[reviews['rating'] < 7]\n",
    "positive = reviews[reviews['rating'] >= 7]"
   ],
   "metadata": {
    "collapsed": false
   }
  },
  {
   "cell_type": "code",
   "execution_count": 60,
   "outputs": [],
   "source": [
    "pTDM = defaultdict(Counter)\n",
    "nTDM = defaultdict(Counter)"
   ],
   "metadata": {
    "collapsed": false
   }
  },
  {
   "cell_type": "code",
   "execution_count": 61,
   "outputs": [],
   "source": [
    "for i, review in enumerate(negative['clean1']):\n",
    "    for t in review.split():\n",
    "        nTDM[t][i] += 1\n",
    "\n",
    "for i, review in enumerate(positive['clean1']):\n",
    "    for t in review.split():\n",
    "        pTDM[t][i] += 1"
   ],
   "metadata": {
    "collapsed": false
   }
  },
  {
   "cell_type": "code",
   "execution_count": 62,
   "outputs": [],
   "source": [
    "V = list(set(list(nTDM.keys()) + list(pTDM.keys())))"
   ],
   "metadata": {
    "collapsed": false
   }
  },
  {
   "cell_type": "code",
   "execution_count": 63,
   "outputs": [
    {
     "data": {
      "text/plain": "[('어요', 982), ('는데', 957), ('습니다', 890), ('어서', 763), ('아서', 715)]"
     },
     "execution_count": 63,
     "metadata": {},
     "output_type": "execute_result"
    }
   ],
   "source": [
    "sorted({t: sum(tinfo.values()) for t, tinfo in nTDM.items()}.items(), key=lambda v:v[1], reverse=True)[:5]"
   ],
   "metadata": {
    "collapsed": false
   }
  },
  {
   "cell_type": "code",
   "execution_count": 64,
   "outputs": [],
   "source": [
    "pProb = dict()\n",
    "length = len(reviews)\n",
    "for t in V:\n",
    "    if len(pTDM[t]) > 0:\n",
    "        pProb[t] = (len((pTDM[t]))+1)/(length+len(V))\n",
    "    # print(t, len(pTDM[t]))\n",
    "\n",
    "nProb = dict()\n",
    "for t in V:\n",
    "    if len(nTDM[t]) > 0:\n",
    "        nProb[t] = (len((nTDM[t]))+1)/(length+len(V))"
   ],
   "metadata": {
    "collapsed": false
   }
  },
  {
   "cell_type": "code",
   "execution_count": 66,
   "outputs": [],
   "source": [
    "pJoint = dict()\n",
    "for t in V:\n",
    "    pJoint[t] = ((len(\n",
    "        set(list(pTDM[t].keys())).intersection(\n",
    "        set(list(nTDM[t].keys()))))+1) / (length+len(V)))"
   ],
   "metadata": {
    "collapsed": false
   }
  },
  {
   "cell_type": "markdown",
   "source": [
    "P(X,Y) = pJoint\n",
    "P(X) = pProb\n",
    "P(Y) = nProb\n",
    "log2 P(X,Y) / (P(X)*P(Y))"
   ],
   "metadata": {
    "collapsed": false
   }
  },
  {
   "cell_type": "code",
   "execution_count": 68,
   "outputs": [],
   "source": [
    "pWords = ['멋있고', '행복한']\n",
    "nWords = ['화장실', '시설']\n",
    "\n",
    "pWordsProb = [(len(pTDM[t])+len(nTDM[t]))/length for t in pWords]\n",
    "nWordsProb = [(len(pTDM[t])+len(nTDM[t]))/length for t in nWords]"
   ],
   "metadata": {
    "collapsed": false
   }
  },
  {
   "cell_type": "code",
   "execution_count": 69,
   "outputs": [
    {
     "ename": "TypeError",
     "evalue": "'set' object is not subscriptable",
     "output_type": "error",
     "traceback": [
      "\u001B[1;31m---------------------------------------------------------------------------\u001B[0m",
      "\u001B[1;31mTypeError\u001B[0m                                 Traceback (most recent call last)",
      "Cell \u001B[1;32mIn [69], line 7\u001B[0m\n\u001B[0;32m      5\u001B[0m nList \u001B[38;5;241m=\u001B[39m \u001B[38;5;28mset\u001B[39m(nTDM[t]\u001B[38;5;241m.\u001B[39mkeys())\n\u001B[0;32m      6\u001B[0m \u001B[38;5;28;01mfor\u001B[39;00m seed \u001B[38;5;129;01min\u001B[39;00m pWords:\n\u001B[1;32m----> 7\u001B[0m     sList \u001B[38;5;241m=\u001B[39m \u001B[38;5;28mset\u001B[39m(\u001B[38;5;28mlist\u001B[39m(pList[t]\u001B[38;5;241m.\u001B[39mkeys()) \u001B[38;5;241m+\u001B[39m \u001B[38;5;28mlist\u001B[39m(nTDM[t]\u001B[38;5;241m.\u001B[39mkeys()))\n\u001B[0;32m      8\u001B[0m     cofreq \u001B[38;5;241m=\u001B[39m \u001B[38;5;28mlen\u001B[39m(pList\u001B[38;5;241m.\u001B[39mintersection(nList)\u001B[38;5;241m.\u001B[39mintersection(sList))\n\u001B[0;32m      9\u001B[0m     jp \u001B[38;5;241m=\u001B[39m cofreq\u001B[38;5;241m/\u001B[39mlength\n",
      "\u001B[1;31mTypeError\u001B[0m: 'set' object is not subscriptable"
     ]
    }
   ],
   "source": [
    "pPMI = defaultdict(float)\n",
    "for t in V:\n",
    "    pList = set(pTDM[t].keys())\n",
    "    nList = set(nTDM[t].keys())\n",
    "    for seed in pWords:\n",
    "        sList = set(list(pList[t].keys()) + list(nTDM[t].keys()))\n",
    "        cofreq = len(pList.intersection(nList).intersection(sList))\n",
    "        jp = (cofreq+1)/(length+len(V))\n",
    "        pp = (len(pList)+1)/(length+len(V))\n",
    "        np = (len(nList)+1)/(length+len(V))\n",
    "        pPMI[t] += log2(jp/(pp*np))\n",
    "\n",
    "nPMI = defaultdict(float)\n",
    "for t in V:\n",
    "    pList = set(pTDM[t].keys())\n",
    "    nList = set(nTDM[t].keys())\n",
    "    for seed in nWords:\n",
    "        sList = set(list(pList[t].keys()) + list(nTDM[t].keys()))\n",
    "        cofreq = len(pList.intersection(nList).intersection(sList))\n",
    "        jp = (cofreq+1)/(length+len(V))\n",
    "        pp = (len(pList)+1)/(length+len(V))\n",
    "        np = (len(nList)+1)/(length+len(V))\n",
    "        nPMI[t] += log2(jp/(pp*np))"
   ],
   "metadata": {
    "collapsed": false
   }
  }
 ],
 "metadata": {
  "kernelspec": {
   "display_name": "Python 3",
   "language": "python",
   "name": "python3"
  },
  "language_info": {
   "codemirror_mode": {
    "name": "ipython",
    "version": 2
   },
   "file_extension": ".py",
   "mimetype": "text/x-python",
   "name": "python",
   "nbconvert_exporter": "python",
   "pygments_lexer": "ipython2",
   "version": "2.7.6"
  }
 },
 "nbformat": 4,
 "nbformat_minor": 0
}
