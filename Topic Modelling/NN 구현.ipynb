{
 "cells": [
  {
   "cell_type": "markdown",
   "source": [
    "# 221122\n",
    "# Neural Network\n",
    "그림\n",
    "\n",
    "$$\n",
    "Z_1 = w_{11}X_1 + w_{21}X_2 + b1\\\\\n",
    "Z_2 = w_{12}X_1 + w_{22}X_2 + b2\\\\\n",
    "$$\n",
    "$$\n",
    "\\begin{pmatrix}\n",
    "Z_1\\\\\n",
    "Z_2\n",
    "\\end{pmatrix}\n",
    "=\n",
    "\\begin{pmatrix}\n",
    "w_{11} & w_{21}\\\\\n",
    "w_{12} & w_{22}\n",
    "\\end{pmatrix}\n",
    "\\begin{pmatrix}\n",
    "X_1\\\\\n",
    "X_2\n",
    "\\end{pmatrix}\n",
    "+\n",
    "\\begin{pmatrix}\n",
    "b_1\\\\\n",
    "b_2\n",
    "\\end{pmatrix}\n",
    "$$\n",
    "$$\n",
    "\n",
    "$$\n",
    "$$ w = \\frac{\\partial Z}{\\partial X} $$\n"
   ],
   "metadata": {
    "collapsed": false
   }
  },
  {
   "cell_type": "markdown",
   "source": [
    "# Activation function - Sigmoid\n",
    "$$\n",
    "\\begin{aligned}\n",
    "S(z) &= \\frac{1}{1 + e^{-z}}\\\\\n",
    "\\frac{\\partial S}{\\partial z} &= - \\frac{1}{(1 + e^{-z})^2} * (-e^{-z})\\\\\n",
    "&= \\frac{e^{-z}}{(1 + e^{-z})^2}\\\\\n",
    "&= \\frac{1}{1+e^{-z}} * \\frac{e^{-z}}{1+e^{-z}}\\\\\n",
    "&= S * \\frac{1+e^{-z} -1}{1+e^{-z}}\\\\\n",
    "&= S * (1 - \\frac{1}{1+e^{-z}})\\\\\n",
    "&= S(1 - S)\n",
    "\\end{aligned}\n",
    "$$\n"
   ],
   "metadata": {
    "collapsed": false
   }
  },
  {
   "cell_type": "markdown",
   "source": [
    "# 221123\n",
    "# Softmax\n",
    "$$\n",
    "P(i) = exp(x_i)\\over \\sum(exp(x_j))\n",
    "$$\n",
    "$$\n",
    "\\partial P/ \\partial i = exp(x_i) \\sum(exp(x_j)) -\n",
    "$$\n"
   ],
   "metadata": {
    "collapsed": false
   }
  },
  {
   "cell_type": "markdown",
   "source": [
    "# Cross Entropy\n",
    "$$\n",
    "CE = - \\displaystyle\\sum_{i}{Y_i\\log\\bar{Y}_i}\n",
    "$$\n",
    "$$\n",
    "\\begin{aligned}\n",
    "\\frac{\\partial CE}{\\partial \\bar{Y_j}} &= - \\displaystyle\\sum_{i}{ \\frac{Y_i}{\\bar{Y_j}}\\frac{\\partial \\bar{Y_i}}{\\partial \\bar{Y_j} }\n",
    "\\quad i = j, i \\neq j 두 가지 경우로 나누어 계산한다.\\\\\n",
    "&= -(\\frac{Y_i}{\\bar {Y_i}}\\frac{\\partial \\bar{Y_i}}{\\partial \\bar{Y_i}} + \\sum_{i\\neq j}{\\frac{Y_i}{\\bar{Y_j}}\\frac{\\partial \\bar{Y_i}}{\\partial \\bar{Y_j}})\n",
    "\\end{aligned}\n",
    "$$"
   ],
   "metadata": {
    "collapsed": false
   }
  },
  {
   "cell_type": "code",
   "execution_count": null,
   "outputs": [],
   "source": [],
   "metadata": {
    "collapsed": false
   }
  }
 ],
 "metadata": {
  "kernelspec": {
   "display_name": "Python 3",
   "language": "python",
   "name": "python3"
  },
  "language_info": {
   "codemirror_mode": {
    "name": "ipython",
    "version": 2
   },
   "file_extension": ".py",
   "mimetype": "text/x-python",
   "name": "python",
   "nbconvert_exporter": "python",
   "pygments_lexer": "ipython2",
   "version": "2.7.6"
  }
 },
 "nbformat": 4,
 "nbformat_minor": 0
}
