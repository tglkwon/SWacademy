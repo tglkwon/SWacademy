{
 "cells": [
  {
   "cell_type": "markdown",
   "source": [
    "# You Only Look Once\n",
    "object dectection -> regression으로 관점을 바꿈"
   ],
   "metadata": {
    "collapsed": false
   }
  },
  {
   "cell_type": "markdown",
   "source": [
    "objection dection -> image classify + 위치 추정 -> 한 번에 예측하는 모델로 만들어보자\n",
    "\n",
    "데이터 이미지 size 448*448로 맞춤\n",
    "1. 7*7 grid로 나누어 2개의 크기를 예측하면서, 물체인지 아닌지 예측함\n",
    "2. 각 크기별로 물체의 위치를 예측하면서 물체가 있을 경우가 많으면 bound를 잡고,\n",
    "이미지 영역에서 어떤 물체일지 class probability map을 그림\n",
    "3. 2번의 연산결과를 합침\n",
    "\n",
    "- 정확도는 좀 떨어지지만, 초 당 연산가능한 프레임 수가 많다. 45 ~ 155(fast yolo) frame\n",
    "- 작은 크기의 물체 찾기, false positive가 해결되지 않음\n",
    "\n",
    "- convolution의 특징상 그림의 사람과 사진의 사람들 다 사람이라고 판단할 수 있지만\n",
    "현대의(20년대) 상황에서는 더 이상 장점이 아니게 됨"
   ],
   "metadata": {
    "collapsed": false
   }
  },
  {
   "cell_type": "markdown",
   "source": [],
   "metadata": {
    "collapsed": false
   }
  },
  {
   "cell_type": "code",
   "execution_count": null,
   "outputs": [],
   "source": [],
   "metadata": {
    "collapsed": false
   }
  }
 ],
 "metadata": {
  "kernelspec": {
   "display_name": "Python 3",
   "language": "python",
   "name": "python3"
  },
  "language_info": {
   "codemirror_mode": {
    "name": "ipython",
    "version": 2
   },
   "file_extension": ".py",
   "mimetype": "text/x-python",
   "name": "python",
   "nbconvert_exporter": "python",
   "pygments_lexer": "ipython2",
   "version": "2.7.6"
  }
 },
 "nbformat": 4,
 "nbformat_minor": 0
}
